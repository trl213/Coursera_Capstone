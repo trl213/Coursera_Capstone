{
 "cells": [
  {
   "cell_type": "markdown",
   "metadata": {},
   "source": [
    "## Introduction"
   ]
  },
  {
   "cell_type": "markdown",
   "metadata": {},
   "source": [
    "A group of college seniors have won a seed funding investment from an angel investor for a fitness startup that was presented during an entrepreneurship contest. They attribute the success of their business pitch by the healthy and active lifestyle they chosen to live. Their activities include swimming, biking, running and playing sports. They also eat/shop with health in the forefront by shopping at farmer's markets and health focused grocery stores."
   ]
  },
  {
   "cell_type": "markdown",
   "metadata": {},
   "source": [
    "## Business Problem"
   ]
  },
  {
   "cell_type": "markdown",
   "metadata": {},
   "source": [
    "With the investment capital received the founders of the fitness startup have the opportunity to move the business from their college dorm into an appropriate office space to continue to grow. Not only do the founders need to find a beautiful office space to grow the business they want to find a city and neighborhood that best suits the company and will attract great workers. As two of the co-founders are from Toronto and two of the founders are from Denver, the selection is down to those two cities."
   ]
  },
  {
   "cell_type": "markdown",
   "metadata": {},
   "source": [
    "## Target Audience and Criteria"
   ]
  },
  {
   "cell_type": "markdown",
   "metadata": {},
   "source": [
    "With a fitness startup that is currently 4 employees with expectations to grow to over 50 employees rather quickly the target audience will be the four founders as well as the future employees the founders would like to attract.\n",
    "\n",
    "The Criteria the founders would use to select an office location is to choose the city that is easiest for an employee to utilize and live a heathly/active lifestyle:\n",
    "\n",
    "-Plentiful trails to either run or hike  \n",
    "-Public transportation so that employees can choose not to drive cars to reduce carbon footprint  \n",
    "-Multiple playgrounds so that employee families a can enjoy an active lifestyle together  \n",
    "-Access to farmer's markets, health foods stores and sporting good stores  \n",
    "-Gyms/Swimming Pools/Entertainment Zones"
   ]
  },
  {
   "cell_type": "code",
   "execution_count": null,
   "metadata": {},
   "outputs": [],
   "source": []
  }
 ],
 "metadata": {
  "kernelspec": {
   "display_name": "Python",
   "language": "python",
   "name": "conda-env-python-py"
  },
  "language_info": {
   "codemirror_mode": {
    "name": "ipython",
    "version": 3
   },
   "file_extension": ".py",
   "mimetype": "text/x-python",
   "name": "python",
   "nbconvert_exporter": "python",
   "pygments_lexer": "ipython3",
   "version": "3.6.10"
  }
 },
 "nbformat": 4,
 "nbformat_minor": 4
}
