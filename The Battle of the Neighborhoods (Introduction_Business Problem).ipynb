{
 "cells": [
  {
   "cell_type": "markdown",
   "metadata": {},
   "source": [
    "## Introduction and Business Problem"
   ]
  },
  {
   "cell_type": "markdown",
   "metadata": {},
   "source": [
    "With the new skills I have developed as a data scientist, I want to apply to for a new role in an educational community to begin my career in data science. I picture myself working for a college/university. and I really want to work in my hometown of Boston. My problem is which college or university in the Greater Boston do I want to work for? To assist in my selection, I am going to leverage the power of public datasets and location data to select a school which I think will best fit my new career as a data scientist. With over 50 colleges/universities in the city of Boston, the criteria I am going to use to select a school to apply to work for are\n",
    "\n",
    "-School located in the Greater Boston Area  \n",
    "-School must have over 5000 students. As a data scientist, I am going to want to intake as much data as possible and believe that 5000 is a solid minimum to retrieve valuable and diverse data.  \n",
    "-School must have access to public transportation in the immediate radius (500M)  \n",
    "-Sports Complexes/Arenas must be located on central campus. Sports is one of the industries with high demands for data scientists and want to be within walking distance to all sports events on campus.  \n",
    "\n",
    "\n",
    "The target audience for this project would be for any prospective student or employee interested in applying to and learning more about the population size and surrounding neighborhood for schools located in Boston with over 5000 students. "
   ]
  }
 ],
 "metadata": {
  "kernelspec": {
   "display_name": "Python",
   "language": "python",
   "name": "conda-env-python-py"
  },
  "language_info": {
   "codemirror_mode": {
    "name": "ipython",
    "version": 3
   },
   "file_extension": ".py",
   "mimetype": "text/x-python",
   "name": "python",
   "nbconvert_exporter": "python",
   "pygments_lexer": "ipython3",
   "version": "3.6.10"
  }
 },
 "nbformat": 4,
 "nbformat_minor": 4
}
